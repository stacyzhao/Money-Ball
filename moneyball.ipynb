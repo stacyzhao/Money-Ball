{
 "cells": [
  {
   "cell_type": "code",
   "execution_count": 539,
   "metadata": {
    "collapsed": false
   },
   "outputs": [],
   "source": [
    "import pandas as pd\n",
    "import numpy as np\n",
    "import matplotlib.pyplot as plt\n",
    "import re\n",
    "\n",
    "%matplotlib inline"
   ]
  },
  {
   "cell_type": "code",
   "execution_count": 540,
   "metadata": {
    "collapsed": false
   },
   "outputs": [],
   "source": [
    "player_stats = pd.read_csv('baseballdatabank-master/core/Master.csv')\n",
    "salaries = pd.read_csv('baseballdatabank-master/core/Salaries.csv')\n",
    "fielding = pd.read_csv('baseballdatabank-master/core/Fielding.csv')\n",
    "batting = pd.read_csv(\"baseballdatabank-master/core/Batting.csv\")\n",
    "pitching = pd.read_csv(\"baseballdatabank-master/core/Pitching.csv\")\n",
    "teams = pd.read_csv(\"baseballdatabank-master/core/Teams.csv\")"
   ]
  },
  {
   "cell_type": "code",
   "execution_count": 541,
   "metadata": {
    "collapsed": false
   },
   "outputs": [],
   "source": [
    "player_salaries = pd.merge(player_stats, salaries)\n",
    "master_stats = player_salaries[['playerID', 'nameGiven', 'deathYear','birthYear', 'salary', 'yearID', 'teamID']]"
   ]
  },
  {
   "cell_type": "markdown",
   "metadata": {},
   "source": [
    "Remove duplicate playerID and take their most recent salary (not highest salary)"
   ]
  },
  {
   "cell_type": "code",
   "execution_count": 542,
   "metadata": {
    "collapsed": false
   },
   "outputs": [
    {
     "name": "stderr",
     "output_type": "stream",
     "text": [
      "/usr/local/lib/python3.5/site-packages/ipykernel/__main__.py:1: FutureWarning: the take_last=True keyword is deprecated, use keep='last' instead\n",
      "  if __name__ == '__main__':\n"
     ]
    }
   ],
   "source": [
    "master_stats_no_dup = master_stats.drop_duplicates(['playerID'], take_last=True)"
   ]
  },
  {
   "cell_type": "markdown",
   "metadata": {},
   "source": [
    "Active Players (Current/Retired)"
   ]
  },
  {
   "cell_type": "code",
   "execution_count": 543,
   "metadata": {
    "collapsed": false
   },
   "outputs": [],
   "source": [
    "active_players = master_stats_no_dup[master_stats_no_dup.deathYear.isnull()]\n",
    "# active_players"
   ]
  },
  {
   "cell_type": "markdown",
   "metadata": {},
   "source": [
    "Calculations for OBP"
   ]
  },
  {
   "cell_type": "code",
   "execution_count": 544,
   "metadata": {
    "collapsed": false
   },
   "outputs": [],
   "source": [
    "calc_for_batting = batting[['playerID', 'H', 'BB', 'HBP', 'SF', 'AB', '2B', '3B', 'HR']].copy()\n",
    "batting_stat = batting[['playerID', 'G']]\n",
    "numerator_OBP = calc_for_batting[['H', 'BB', 'HBP']]\n",
    "denominator_OBP = calc_for_batting[['AB', 'BB', 'HBP', 'SF']]\n",
    "# calc_for_OBP.head(10)"
   ]
  },
  {
   "cell_type": "code",
   "execution_count": 545,
   "metadata": {
    "collapsed": false
   },
   "outputs": [],
   "source": [
    "numerator_OBP = numerator_OBP.sum(axis=1)\n",
    "denominator_OBP = denominator_OBP.sum(axis=1)"
   ]
  },
  {
   "cell_type": "code",
   "execution_count": 546,
   "metadata": {
    "collapsed": false
   },
   "outputs": [],
   "source": [
    "calc_for_batting['numerator_OBP'] = numerator_OBP\n",
    "calc_for_batting['denominator_OBP'] = denominator_OBP"
   ]
  },
  {
   "cell_type": "code",
   "execution_count": 547,
   "metadata": {
    "collapsed": false
   },
   "outputs": [],
   "source": [
    "OBP = calc_for_batting['numerator_OBP'] / calc_for_batting['denominator_OBP']"
   ]
  },
  {
   "cell_type": "code",
   "execution_count": 548,
   "metadata": {
    "collapsed": false
   },
   "outputs": [
    {
     "name": "stderr",
     "output_type": "stream",
     "text": [
      "/usr/local/lib/python3.5/site-packages/ipykernel/__main__.py:1: SettingWithCopyWarning: \n",
      "A value is trying to be set on a copy of a slice from a DataFrame.\n",
      "Try using .loc[row_indexer,col_indexer] = value instead\n",
      "\n",
      "See the caveats in the documentation: http://pandas.pydata.org/pandas-docs/stable/indexing.html#indexing-view-versus-copy\n",
      "  if __name__ == '__main__':\n"
     ]
    }
   ],
   "source": [
    "batting_stat['OBP'] = OBP"
   ]
  },
  {
   "cell_type": "markdown",
   "metadata": {},
   "source": [
    "Runs Created - To create a measurement between hitting and pitching. This allows you to determine who is a better hitter depending on the number of people on bases\n",
    "\n",
    "Total bases: one for each single, two for each double, three for each triple, and four for each home run \n",
    "[H + 2B + (2 * 3B) + (3 * HR)]"
   ]
  },
  {
   "cell_type": "code",
   "execution_count": 549,
   "metadata": {
    "collapsed": false
   },
   "outputs": [],
   "source": [
    "TB = calc_for_batting['H'] + calc_for_batting['2B'] + (2* calc_for_batting['3B']) + (3* calc_for_batting['HR'])"
   ]
  },
  {
   "cell_type": "code",
   "execution_count": 550,
   "metadata": {
    "collapsed": false
   },
   "outputs": [
    {
     "name": "stderr",
     "output_type": "stream",
     "text": [
      "/usr/local/lib/python3.5/site-packages/ipykernel/__main__.py:1: SettingWithCopyWarning: \n",
      "A value is trying to be set on a copy of a slice from a DataFrame.\n",
      "Try using .loc[row_indexer,col_indexer] = value instead\n",
      "\n",
      "See the caveats in the documentation: http://pandas.pydata.org/pandas-docs/stable/indexing.html#indexing-view-versus-copy\n",
      "  if __name__ == '__main__':\n"
     ]
    }
   ],
   "source": [
    "batting_stat['TB'] = TB"
   ]
  },
  {
   "cell_type": "code",
   "execution_count": 573,
   "metadata": {
    "collapsed": false
   },
   "outputs": [],
   "source": [
    "clean_batting = batting_stat[batting_stat.OBP.isnull()==False]"
   ]
  },
  {
   "cell_type": "code",
   "execution_count": 572,
   "metadata": {
    "collapsed": false
   },
   "outputs": [],
   "source": [
    "batting_stats = pd.merge(master_stats, clean_batting)"
   ]
  },
  {
   "cell_type": "code",
   "execution_count": 568,
   "metadata": {
    "collapsed": false
   },
   "outputs": [
    {
     "name": "stderr",
     "output_type": "stream",
     "text": [
      "/usr/local/lib/python3.5/site-packages/ipykernel/__main__.py:2: FutureWarning: the take_last=True keyword is deprecated, use keep='last' instead\n",
      "  from ipykernel import kernelapp as app\n"
     ]
    }
   ],
   "source": [
    "batting_stats[batting_stats.deathYear.isnull()]\n",
    "batting_stats = batting_stats.drop_duplicates(['playerID'], take_last=True)\n",
    "batting_stats = batting_stats[(batting_stats['OBP'] != 0) & (batting_stats['OBP'] > 0.4)]\n",
    "batting_stats = batting_stats[(batting_stats['TB'] != 0) & (batting_stats['salary'] < 1000000)]\n",
    "batting_stats = batting_stats[(batting_stats['yearID'] > 2010) & (batting_stats['yearID'] < 2015)]\n"
   ]
  },
  {
   "cell_type": "code",
   "execution_count": 571,
   "metadata": {
    "collapsed": false
   },
   "outputs": [
    {
     "data": {
      "text/html": [
       "<div>\n",
       "<table border=\"1\" class=\"dataframe\">\n",
       "  <thead>\n",
       "    <tr style=\"text-align: right;\">\n",
       "      <th></th>\n",
       "      <th>playerID</th>\n",
       "      <th>nameGiven</th>\n",
       "      <th>deathYear</th>\n",
       "      <th>birthYear</th>\n",
       "      <th>salary</th>\n",
       "      <th>yearID</th>\n",
       "      <th>teamID</th>\n",
       "      <th>G</th>\n",
       "      <th>OBP</th>\n",
       "      <th>TB</th>\n",
       "    </tr>\n",
       "  </thead>\n",
       "  <tbody>\n",
       "    <tr>\n",
       "      <th>127946</th>\n",
       "      <td>lutzza01</td>\n",
       "      <td>Zachary Craig</td>\n",
       "      <td>NaN</td>\n",
       "      <td>1986.0</td>\n",
       "      <td>490040</td>\n",
       "      <td>2013</td>\n",
       "      <td>NYN</td>\n",
       "      <td>15</td>\n",
       "      <td>0.461538</td>\n",
       "      <td>8.0</td>\n",
       "    </tr>\n",
       "    <tr>\n",
       "      <th>140688</th>\n",
       "      <td>mesame01</td>\n",
       "      <td>Melquisedec</td>\n",
       "      <td>NaN</td>\n",
       "      <td>1987.0</td>\n",
       "      <td>490200</td>\n",
       "      <td>2013</td>\n",
       "      <td>NYA</td>\n",
       "      <td>5</td>\n",
       "      <td>0.428571</td>\n",
       "      <td>7.0</td>\n",
       "    </tr>\n",
       "    <tr>\n",
       "      <th>128132</th>\n",
       "      <td>lyonbr01</td>\n",
       "      <td>Brandon James</td>\n",
       "      <td>NaN</td>\n",
       "      <td>1979.0</td>\n",
       "      <td>750000</td>\n",
       "      <td>2013</td>\n",
       "      <td>NYN</td>\n",
       "      <td>15</td>\n",
       "      <td>1.000000</td>\n",
       "      <td>2.0</td>\n",
       "    </tr>\n",
       "    <tr>\n",
       "      <th>29391</th>\n",
       "      <td>burriem01</td>\n",
       "      <td>Emmanuel Allen</td>\n",
       "      <td>NaN</td>\n",
       "      <td>1985.0</td>\n",
       "      <td>625000</td>\n",
       "      <td>2012</td>\n",
       "      <td>SFN</td>\n",
       "      <td>5</td>\n",
       "      <td>0.800000</td>\n",
       "      <td>2.0</td>\n",
       "    </tr>\n",
       "    <tr>\n",
       "      <th>6410</th>\n",
       "      <td>augenbr01</td>\n",
       "      <td>Bryan Christopher</td>\n",
       "      <td>NaN</td>\n",
       "      <td>1986.0</td>\n",
       "      <td>414000</td>\n",
       "      <td>2011</td>\n",
       "      <td>SLN</td>\n",
       "      <td>5</td>\n",
       "      <td>1.000000</td>\n",
       "      <td>1.0</td>\n",
       "    </tr>\n",
       "    <tr>\n",
       "      <th>98234</th>\n",
       "      <td>horstje01</td>\n",
       "      <td>Jeremy Michael</td>\n",
       "      <td>NaN</td>\n",
       "      <td>1985.0</td>\n",
       "      <td>497000</td>\n",
       "      <td>2013</td>\n",
       "      <td>PHI</td>\n",
       "      <td>12</td>\n",
       "      <td>1.000000</td>\n",
       "      <td>1.0</td>\n",
       "    </tr>\n",
       "    <tr>\n",
       "      <th>139736</th>\n",
       "      <td>meekev01</td>\n",
       "      <td>Evan David</td>\n",
       "      <td>NaN</td>\n",
       "      <td>1983.0</td>\n",
       "      <td>875000</td>\n",
       "      <td>2012</td>\n",
       "      <td>PIT</td>\n",
       "      <td>70</td>\n",
       "      <td>1.000000</td>\n",
       "      <td>1.0</td>\n",
       "    </tr>\n",
       "    <tr>\n",
       "      <th>181586</th>\n",
       "      <td>rodrian01</td>\n",
       "      <td>Aneury</td>\n",
       "      <td>NaN</td>\n",
       "      <td>1987.0</td>\n",
       "      <td>414000</td>\n",
       "      <td>2011</td>\n",
       "      <td>HOU</td>\n",
       "      <td>1</td>\n",
       "      <td>1.000000</td>\n",
       "      <td>1.0</td>\n",
       "    </tr>\n",
       "    <tr>\n",
       "      <th>190535</th>\n",
       "      <td>schlibr01</td>\n",
       "      <td>Brian Patrick</td>\n",
       "      <td>NaN</td>\n",
       "      <td>1985.0</td>\n",
       "      <td>414000</td>\n",
       "      <td>2011</td>\n",
       "      <td>PHI</td>\n",
       "      <td>61</td>\n",
       "      <td>1.000000</td>\n",
       "      <td>1.0</td>\n",
       "    </tr>\n",
       "    <tr>\n",
       "      <th>5486</th>\n",
       "      <td>arredjo01</td>\n",
       "      <td>Jose Juan</td>\n",
       "      <td>NaN</td>\n",
       "      <td>1984.0</td>\n",
       "      <td>800000</td>\n",
       "      <td>2012</td>\n",
       "      <td>CIN</td>\n",
       "      <td>53</td>\n",
       "      <td>0.500000</td>\n",
       "      <td>1.0</td>\n",
       "    </tr>\n",
       "    <tr>\n",
       "      <th>33559</th>\n",
       "      <td>cappsca01</td>\n",
       "      <td>Carter Lewis</td>\n",
       "      <td>NaN</td>\n",
       "      <td>1990.0</td>\n",
       "      <td>491700</td>\n",
       "      <td>2013</td>\n",
       "      <td>SEA</td>\n",
       "      <td>30</td>\n",
       "      <td>0.500000</td>\n",
       "      <td>1.0</td>\n",
       "    </tr>\n",
       "    <tr>\n",
       "      <th>88815</th>\n",
       "      <td>harrelu01</td>\n",
       "      <td>Lucas William Bradley</td>\n",
       "      <td>NaN</td>\n",
       "      <td>1985.0</td>\n",
       "      <td>500700</td>\n",
       "      <td>2013</td>\n",
       "      <td>HOU</td>\n",
       "      <td>37</td>\n",
       "      <td>0.500000</td>\n",
       "      <td>1.0</td>\n",
       "    </tr>\n",
       "    <tr>\n",
       "      <th>117091</th>\n",
       "      <td>laffeaa01</td>\n",
       "      <td>Aaron Steven</td>\n",
       "      <td>NaN</td>\n",
       "      <td>1985.0</td>\n",
       "      <td>480000</td>\n",
       "      <td>2013</td>\n",
       "      <td>NYN</td>\n",
       "      <td>3</td>\n",
       "      <td>0.500000</td>\n",
       "      <td>1.0</td>\n",
       "    </tr>\n",
       "    <tr>\n",
       "      <th>153580</th>\n",
       "      <td>nunovi01</td>\n",
       "      <td>Vidal Vicente</td>\n",
       "      <td>NaN</td>\n",
       "      <td>1987.0</td>\n",
       "      <td>504500</td>\n",
       "      <td>2014</td>\n",
       "      <td>ARI</td>\n",
       "      <td>32</td>\n",
       "      <td>0.500000</td>\n",
       "      <td>1.0</td>\n",
       "    </tr>\n",
       "  </tbody>\n",
       "</table>\n",
       "</div>"
      ],
      "text/plain": [
       "         playerID              nameGiven  deathYear  birthYear  salary  \\\n",
       "127946   lutzza01          Zachary Craig        NaN     1986.0  490040   \n",
       "140688   mesame01            Melquisedec        NaN     1987.0  490200   \n",
       "128132   lyonbr01          Brandon James        NaN     1979.0  750000   \n",
       "29391   burriem01         Emmanuel Allen        NaN     1985.0  625000   \n",
       "6410    augenbr01      Bryan Christopher        NaN     1986.0  414000   \n",
       "98234   horstje01         Jeremy Michael        NaN     1985.0  497000   \n",
       "139736   meekev01             Evan David        NaN     1983.0  875000   \n",
       "181586  rodrian01                 Aneury        NaN     1987.0  414000   \n",
       "190535  schlibr01          Brian Patrick        NaN     1985.0  414000   \n",
       "5486    arredjo01              Jose Juan        NaN     1984.0  800000   \n",
       "33559   cappsca01           Carter Lewis        NaN     1990.0  491700   \n",
       "88815   harrelu01  Lucas William Bradley        NaN     1985.0  500700   \n",
       "117091  laffeaa01           Aaron Steven        NaN     1985.0  480000   \n",
       "153580   nunovi01          Vidal Vicente        NaN     1987.0  504500   \n",
       "\n",
       "        yearID teamID   G       OBP   TB  \n",
       "127946    2013    NYN  15  0.461538  8.0  \n",
       "140688    2013    NYA   5  0.428571  7.0  \n",
       "128132    2013    NYN  15  1.000000  2.0  \n",
       "29391     2012    SFN   5  0.800000  2.0  \n",
       "6410      2011    SLN   5  1.000000  1.0  \n",
       "98234     2013    PHI  12  1.000000  1.0  \n",
       "139736    2012    PIT  70  1.000000  1.0  \n",
       "181586    2011    HOU   1  1.000000  1.0  \n",
       "190535    2011    PHI  61  1.000000  1.0  \n",
       "5486      2012    CIN  53  0.500000  1.0  \n",
       "33559     2013    SEA  30  0.500000  1.0  \n",
       "88815     2013    HOU  37  0.500000  1.0  \n",
       "117091    2013    NYN   3  0.500000  1.0  \n",
       "153580    2014    ARI  32  0.500000  1.0  "
      ]
     },
     "execution_count": 571,
     "metadata": {},
     "output_type": "execute_result"
    }
   ],
   "source": [
    "batting_stats.sort_values(['TB', 'OBP'], ascending=[False, False])"
   ]
  }
 ],
 "metadata": {
  "kernelspec": {
   "display_name": "Python 3",
   "language": "python",
   "name": "python3"
  },
  "language_info": {
   "codemirror_mode": {
    "name": "ipython",
    "version": 3
   },
   "file_extension": ".py",
   "mimetype": "text/x-python",
   "name": "python",
   "nbconvert_exporter": "python",
   "pygments_lexer": "ipython3",
   "version": "3.5.1"
  }
 },
 "nbformat": 4,
 "nbformat_minor": 0
}
